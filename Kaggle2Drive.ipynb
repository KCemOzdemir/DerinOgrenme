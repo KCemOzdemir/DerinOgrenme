{
  "nbformat": 4,
  "nbformat_minor": 0,
  "metadata": {
    "colab": {
      "name": "Kaggle2Drive.ipynb",
      "provenance": [],
      "collapsed_sections": [],
      "toc_visible": true,
      "mount_file_id": "1tJjVOiRy-XZXHrZkg6yvW3qDRP_-lAQa",
      "authorship_tag": "ABX9TyPgqazoE3d3yk58AKoudTX/",
      "include_colab_link": true
    },
    "kernelspec": {
      "name": "python3",
      "display_name": "Python 3"
    }
  },
  "cells": [
    {
      "cell_type": "markdown",
      "metadata": {
        "id": "view-in-github",
        "colab_type": "text"
      },
      "source": [
        "<a href=\"https://colab.research.google.com/github/KCemOzdemir/DerinOgrenme/blob/main/Kaggle2Drive.ipynb\" target=\"_parent\"><img src=\"https://colab.research.google.com/assets/colab-badge.svg\" alt=\"Open In Colab\"/></a>"
      ]
    },
    {
      "cell_type": "markdown",
      "metadata": {
        "id": "yZEMNsa6-jTe"
      },
      "source": [
        "##KAGGLE ÜZERİNDEN GOOGLE DRİVE KLASÖRÜNE DATASET İNDİRMEK\r\n",
        "1-) Öncelikle Kaggle hesabınıza giriş yapın\r\n",
        "\r\n",
        "2-) Giriş yaptıktan sonra sağ üstte bulunan Profil resminize daha sonra ise account kısmına geçin\r\n",
        "\r\n",
        "3-) Account kısmından API bölümüne gelin ve Create New API Token'e tıklayın\r\n",
        "\r\n",
        "4-) kaggle.json dosyası inince google colaba giriş yapın\r\n",
        "\r\n",
        "5-) indirdiğiniz kaggle.json dosyasını açın ve içindekileri uygun şekilde aşağıdaki yourusername yourkey kısmına yapıştırın\r\n",
        "\r\n",
        "6-) Ardından Drive çekmek istediğiniz datasetinin kaggle sayfasına geçin ve copy api command kısmına tıklayın\r\n",
        "\r\n",
        "7-) Bu API yi aşağıdaki YOURAPI kısmına kopyalayın\r\n",
        "\r\n",
        "8-) İndirme tamamlandıktan sonra çalışma indirilen yerden çalışma alanınıza dosyayı çekin."
      ]
    },
    {
      "cell_type": "code",
      "metadata": {
        "id": "VgGquhNu7d29"
      },
      "source": [
        "import os\r\n",
        "\r\n",
        "os.environ['KAGGLE_USERNAME']=\"yourusername\"\r\n",
        "os.environ['KAGGLE_KEY']=\"yourkey\""
      ],
      "execution_count": 2,
      "outputs": []
    },
    {
      "cell_type": "code",
      "metadata": {
        "colab": {
          "base_uri": "https://localhost:8080/"
        },
        "id": "Lzp2aCuX89-2",
        "outputId": "37841a89-2dbc-4ead-bcb0-7caa528122f3"
      },
      "source": [
        "!YOURAPI"
      ],
      "execution_count": 3,
      "outputs": [
        {
          "output_type": "stream",
          "text": [
            "Downloading fruits.zip to /content\n",
            " 98% 741M/760M [00:29<00:00, 22.8MB/s]\n",
            "100% 760M/760M [00:29<00:00, 27.1MB/s]\n"
          ],
          "name": "stdout"
        }
      ]
    },
    {
      "cell_type": "code",
      "metadata": {
        "colab": {
          "base_uri": "https://localhost:8080/",
          "height": 35
        },
        "id": "F7QOJFKO95KY",
        "outputId": "0bad1376-0942-44aa-85df-9b73743b757e"
      },
      "source": [
        "import shutil\r\n",
        "shutil.move(\"indirilen dosya konumu yolu\",\"taşımak istediğiniz klasörün dosya yolu\")\r\n"
      ],
      "execution_count": 5,
      "outputs": [
        {
          "output_type": "execute_result",
          "data": {
            "application/vnd.google.colaboratory.intrinsic+json": {
              "type": "string"
            },
            "text/plain": [
              "'/content/drive/MyDrive/fruit360/fruits.zip'"
            ]
          },
          "metadata": {
            "tags": []
          },
          "execution_count": 5
        }
      ]
    }
  ]
}