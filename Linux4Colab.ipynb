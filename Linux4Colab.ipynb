{
  "nbformat": 4,
  "nbformat_minor": 0,
  "metadata": {
    "colab": {
      "name": "Linux4Colab.ipynb",
      "provenance": [],
      "authorship_tag": "ABX9TyOEeNlpg8vHa627EuTSyEbl",
      "include_colab_link": true
    },
    "kernelspec": {
      "name": "python3",
      "display_name": "Python 3"
    }
  },
  "cells": [
    {
      "cell_type": "markdown",
      "metadata": {
        "id": "view-in-github",
        "colab_type": "text"
      },
      "source": [
        "<a href=\"https://colab.research.google.com/github/KCemOzdemir/DerinOgrenme/blob/main/Linux4Colab.ipynb\" target=\"_parent\"><img src=\"https://colab.research.google.com/assets/colab-badge.svg\" alt=\"Open In Colab\"/></a>"
      ]
    },
    {
      "cell_type": "markdown",
      "metadata": {
        "id": "Y4soxUkFDg5S"
      },
      "source": [
        "Colab Kullanırken İşimize Yarayacak Linux Komutları\r\n",
        "\r\n",
        "Yazımıza başlamadan önce işletim sistemi nedir buna değinmeliyiz.\r\n",
        "  İşletim Sistemi (Operating System OS) : Bilgisayarda çalışan donanım, yazılım ve kullanıcı entegrasyonunu sağlayan yapının genel adıdır. Daha kısa ve açıklayıcı bir tabir üretmek\r\n",
        "  gerekirse sistem uygulamaları ile donanım arasında bir aracıdır. (ÖRN: Windows, MacOS, Linux, Android vb.)\r\n",
        "\r\n",
        "  Linux Nedir?\r\n",
        "  Linux : 1991 Yılında Linus Torvald tarafından geliştirmeye başlanan bir işletim sistemi çekirdeğidir. Peki işletim sistemi çekirdeği nedir? İşletim sistemi çekirdeği ksısa ve öz\r\n",
        "  bir tabirle işletim sisteminin kalbidir. Sırasıyla yazarsak (Donanım > Çekirdek(Linux) > İşletim Sistemi(GNU)) (GNU işletim sistemi Richard Stallman tarafından geliştirilmeye\r\n",
        "  başlanmıştır.).\r\n",
        "\r\n",
        "  GNU/Linux İşletim Sistemi : GNU/Linux işletim sisteminin son kullanıcılar için uygun olan kurulabilir versiyonuna GNU/Linux dağıtımı denir.\r\n",
        "\r\n",
        "  Google Colab temelde bir linux çekirdeği üzerinden çalıştığı için belli özelleşmiş linux komutlarını bilmek bize hareket alını genişliği sağlar ağaşıda benim Deep Learning \r\n",
        "  çalışırken kullandığım belli başlı linux komutları vardır zaman zaman güncellenecektir."
      ]
    },
    {
      "cell_type": "code",
      "metadata": {
        "colab": {
          "base_uri": "https://localhost:8080/"
        },
        "id": "xrE8sLP2DwVj",
        "outputId": "082d50d5-4f22-48cb-ea1f-fe85ce038b43"
      },
      "source": [
        "# !pwd komutu o an hangi dizinde olduğunuzu bulmak için kullanılır.\r\n",
        "!pwd"
      ],
      "execution_count": 1,
      "outputs": [
        {
          "output_type": "stream",
          "text": [
            "/content\n"
          ],
          "name": "stdout"
        }
      ]
    },
    {
      "cell_type": "code",
      "metadata": {
        "id": "vLs27RXtI26L"
      },
      "source": [
        "# !cd komutu dosya sisteminde gezinmek için kullanılır (Tavsite python os kütüphanesi daha yararlı)\r\n",
        "!cd"
      ],
      "execution_count": 2,
      "outputs": []
    },
    {
      "cell_type": "code",
      "metadata": {
        "colab": {
          "base_uri": "https://localhost:8080/"
        },
        "id": "ACukVEKdJL_U",
        "outputId": "5de81e05-3bdf-420d-f0c7-023f09769e8f"
      },
      "source": [
        "# !ls komutu bir dizinin içeriğini görmek için kullanılır.\r\n",
        "!ls"
      ],
      "execution_count": 3,
      "outputs": [
        {
          "output_type": "stream",
          "text": [
            "sample_data\n"
          ],
          "name": "stdout"
        }
      ]
    },
    {
      "cell_type": "code",
      "metadata": {
        "colab": {
          "base_uri": "https://localhost:8080/"
        },
        "id": "hPnxBRpOJR8K",
        "outputId": "c8126bfa-769f-43c8-fce4-357bfd93c87d"
      },
      "source": [
        "# !cp komutunu mevcut dizinden dosyaları kopyalamak için kullanılır drive'dan dataset kopyalamak vb işlemler için ideal\r\n",
        "# !cp dosya.uzantı /istenilen/alan\r\n",
        "!cp"
      ],
      "execution_count": 4,
      "outputs": [
        {
          "output_type": "stream",
          "text": [
            "cp: missing file operand\n",
            "Try 'cp --help' for more information.\n"
          ],
          "name": "stdout"
        }
      ]
    },
    {
      "cell_type": "markdown",
      "metadata": {
        "id": "wmvP3LLFJ_-b"
      },
      "source": [
        "[İzmir Ekonomi Üniversitesi Linux Komutları PDF](http://itsupport.ieu.edu.tr/tr/wp-content/themes/twentyten/docs/linuxKomutlari.pdf)"
      ]
    },
    {
      "cell_type": "markdown",
      "metadata": {
        "id": "M_faIEDjKaw_"
      },
      "source": [
        "[Python OS modülü için güzel bir inceleme](https://www.sinanerdinc.com/python-os-modulu?utm_source=medium&utm_medium=post)"
      ]
    }
  ]
}